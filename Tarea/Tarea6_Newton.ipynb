{
  "nbformat": 4,
  "nbformat_minor": 0,
  "metadata": {
    "colab": {
      "name": "Tarea6_Newton.ipynb",
      "provenance": [],
      "collapsed_sections": []
    },
    "kernelspec": {
      "name": "python3",
      "display_name": "Python 3"
    }
  },
  "cells": [
    {
      "cell_type": "code",
      "metadata": {
        "id": "JsKIGq8Db8E0"
      },
      "source": [
        ""
      ],
      "execution_count": null,
      "outputs": []
    },
    {
      "cell_type": "markdown",
      "metadata": {
        "id": "2RcWQ67ocJrh"
      },
      "source": [
        "Método de Newton-Raphson"
      ]
    },
    {
      "cell_type": "code",
      "metadata": {
        "id": "NsHuSV1RcWWT",
        "outputId": "d3b0307c-4be4-45bc-b4ce-840e45826a97",
        "colab": {
          "base_uri": "https://localhost:8080/"
        }
      },
      "source": [
        "import matplotlib.pyplot as plt \n",
        "import math\n",
        "\n",
        "print(\"Método de Newton-Raphson\")\n",
        "\n",
        "class Newton:\t\n",
        "\n",
        "\t__cont = 0\n",
        "\t__ea = []# Error absoluto\n",
        "\t__xn = []# Xi\t\t\t\n",
        "\n",
        "\tdef __init__(self, x0, cp = 0.0001):\t\t\n",
        "\n",
        "\t\tself.x0 = x0\n",
        "\t\tself.cp = cp\t\t\n",
        "\t\tself.__ea.append(1)\n",
        "\t\tself.__xn.append(self.x0)\t\n",
        "\n",
        "\tdef f(self, x):\n",
        "\n",
        "\t\treturn math.exp(-x) - x\n",
        "\n",
        "\tdef fPrima(self, x):\n",
        "\n",
        "\t\treturn -math.exp(-x) - 1\n",
        "\n",
        "\tdef x_i_next(self, xi):\n",
        "\n",
        "\t\treturn xi - (self.f(xi)/self.fPrima(xi))\n",
        "\n",
        "\tdef resultado(self):\t\t\t\t\n",
        "\n",
        "\t\twhile (self.__ea[self.__cont] > self.cp):\n",
        "\t\n",
        "\t\t\tself.__xn.append(self.x_i_next(self.__xn[self.__cont]))\t\t\t\t\n",
        "\t\t\tself.__ea.append(abs(self.__xn[self.__cont+1] - self.__xn[self.__cont]))\n",
        "\t\t\tself.__cont += 1\n",
        "\n",
        "\tdef mosrarResultados(self):\n",
        "\n",
        "\t\tprint(\"{:^0}{:^18}\".format(\"Valor en X\", \"Error\"))\n",
        "\t\t#print(\"\\nValor en X     Error\")\n",
        "\n",
        "\t\tfor i in range(len(self.__xn)):\n",
        "\t\n",
        "\t\t\tprint(\"{:^12.4f}\".format(self.__xn[i]), \"{:^10.4f}\".format(self.__ea[i]))\t\t\t\n",
        "\n",
        "\t\tprint(\"Número de iteraciones: \", self.__cont)\n",
        "\n",
        "\tdef graficarFuncion(self):\n",
        "\n",
        "\t\tv = [0, 4, 0, 2]\n",
        "\t\t\n",
        "\t\tplt.plot(self.__xn, label = \"Función\")\n",
        "\t\tplt.plot(self.__ea, \"g--\", label = \"Error\")\n",
        "\t\tplt.xlabel(\"Eje X\")\n",
        "\t\tplt.ylabel(\"Eje Y\")\n",
        "\t\tplt.title(\"Método de Newton-Raphson\")\n",
        "\t\tplt.legend(loc = 1)\n",
        "\t\tplt.axis(v)\n",
        "\t\tplt.show()"
      ],
      "execution_count": 1,
      "outputs": [
        {
          "output_type": "stream",
          "text": [
            "Método de Newton-Raphson\n"
          ],
          "name": "stdout"
        }
      ]
    },
    {
      "cell_type": "markdown",
      "metadata": {
        "id": "Z79q5Xc2cgol"
      },
      "source": [
        "Instanciando clase"
      ]
    },
    {
      "cell_type": "code",
      "metadata": {
        "id": "OdB18QhAckDK",
        "outputId": "7006b3a0-c6ae-4041-9a7d-e69c9e1b0c9d",
        "colab": {
          "base_uri": "https://localhost:8080/",
          "height": 516
        }
      },
      "source": [
        "x0 = int(input(\"\\nIngrese un valor para X0\\nX0 = \"))\n",
        "cp = float(input(\"Ingrese un criterio de paro.\\ncp = \"))\n",
        "\n",
        "miFuncion = Newton(x0, cp)\n",
        "\n",
        "miFuncion.resultado()\n",
        "miFuncion.mosrarResultados()\n",
        "miFuncion.graficarFuncion()"
      ],
      "execution_count": 2,
      "outputs": [
        {
          "output_type": "stream",
          "text": [
            "\n",
            "Ingrese un valor para X0\n",
            "X0 = 0\n",
            "Ingrese un criterio de paro.\n",
            "cp = 0.000000001\n",
            "Valor en X      Error       \n",
            "   0.0000      1.0000  \n",
            "   0.5000      0.5000  \n",
            "   0.5663      0.0663  \n",
            "   0.5671      0.0008  \n",
            "   0.5671      0.0000  \n",
            "   0.5671      0.0000  \n",
            "Número de iteraciones:  5\n"
          ],
          "name": "stdout"
        },
        {
          "output_type": "display_data",
          "data": {
            "image/png": "[encoded data removed]",
            "text/plain": [
              "<Figure size 432x288 with 1 Axes>"
            ]
          },
          "metadata": {
            "tags": [],
            "needs_background": "light"
          }
        }
      ]
    },
    {
      "cell_type": "code",
      "metadata": {
        "id": "xxBGgL1jdMEX"
      },
      "source": [
        ""
      ],
      "execution_count": null,
      "outputs": []
    },
    {
      "cell_type": "markdown",
      "metadata": {
        "id": "8f-sXmhHdMv8"
      },
      "source": [
        "Método de PUnto Fijo"
      ]
    },
    {
      "cell_type": "code",
      "metadata": {
        "id": "Q9hMpfeidWpc",
        "outputId": "c18daca8-a447-4db0-a872-f41ef45837d8",
        "colab": {
          "base_uri": "https://localhost:8080/",
          "height": 401
        }
      },
      "source": [
        "import matplotlib.pyplot as plt\n",
        "import math \n",
        "\n",
        "def g3(x, cp = 0.0001):\n",
        "\n",
        "  return math.sqrt((x+5)/2)\n",
        "\n",
        "listaG3 = []\n",
        "errorG3 = []\n",
        "cont = 0\n",
        "cp = 0.0001\n",
        "\n",
        "x = int(input(\"Establece el valor de x: \"))\n",
        "listaG3.append(x)\n",
        "\n",
        "errorG3.append(1)\n",
        "\n",
        "print(\"\\n\\nFunción g3(x) (cuando la raíz es positiva)\")\n",
        "\n",
        "cont = 0\n",
        "\n",
        "while (errorG3[cont] > cp):\n",
        "\t\n",
        "\tlistaG3.append(g3(listaG3[cont]))\n",
        "\terrorG3.append(abs(listaG3[cont+1] - listaG3[cont]))\t\n",
        "\n",
        "\tcont += 1\n",
        "\n",
        "\tif (cont > 50 and errorG3[cont] > cp):\n",
        "\n",
        "\t\t  print(\"No converge\")\n",
        "\t\t  break;\t\n",
        "\t\n",
        "\tif (cont < 50 and errorG3[cont] < cp):\n",
        "\n",
        "\t\t  print(\"Sí converge\")\n",
        "\t\t  break;\t\n",
        "\n",
        "print(\"g3(x): \", end = \"\")\n",
        "\n",
        "for i in range(len(listaG3)):\n",
        "\n",
        "\tprint(\"{:^3.5f}, \".format(listaG3[i]), end = \" \")\n",
        "\n",
        "print(\"\\nError en g2(x): \", end = \"\")\n",
        "\n",
        "for i in range(len(errorG3)):\n",
        "\n",
        "\tprint(\"{:^3.5f}, \".format(errorG3[i]), end = \" \")\n",
        " \n",
        "print(\"\\nNúmero de iteraciones: \", cont)\n",
        "\n",
        "plt.plot(listaG3, label = \"g3\")\n",
        "plt.legend()\n",
        "plt.show()"
      ],
      "execution_count": 5,
      "outputs": [
        {
          "output_type": "stream",
          "text": [
            "Establece el valor de x: 0\n",
            "\n",
            "\n",
            "Función g3(x) (cuando la raíz es positiva)\n",
            "Sí converge\n",
            "g3(x): 0.00000,  1.58114,  1.81399,  1.84581,  1.85011,  1.85069,  1.85077,  \n",
            "Error en g2(x): 1.00000,  1.58114,  0.23285,  0.03181,  0.00430,  0.00058,  0.00008,  \n",
            "Número de iteraciones:  6\n"
          ],
          "name": "stdout"
        },
        {
          "output_type": "display_data",
          "data": {
            "image/png": "[encoded data removed]",
            "text/plain": [
              "<Figure size 432x288 with 1 Axes>"
            ]
          },
          "metadata": {
            "tags": [],
            "needs_background": "light"
          }
        }
      ]
    }
  ]
}